{
 "cells": [
  {
   "cell_type": "markdown",
   "id": "2bb640dd-e516-40e0-bdcd-36b27d350100",
   "metadata": {},
   "source": [
    "# Import"
   ]
  },
  {
   "cell_type": "code",
   "execution_count": 1,
   "id": "4350d32d-bead-48a3-900a-4aeeab8b8fa5",
   "metadata": {},
   "outputs": [],
   "source": [
    "import numpy as np\n",
    "from scipy.linalg import lu\n",
    "from scipy.linalg import lu_factor, lu_solve"
   ]
  },
  {
   "cell_type": "markdown",
   "id": "bfa0d725-039c-4796-849d-5cf1ef0d32ae",
   "metadata": {},
   "source": [
    "# LU Decomposition"
   ]
  },
  {
   "cell_type": "code",
   "execution_count": 4,
   "id": "6fce24d0-4aca-4b2d-8c5a-8e8ccd820481",
   "metadata": {},
   "outputs": [],
   "source": [
    "A = np.array([[2, 1, 1], [4, -6, 0], [-2, 7, 2]])\n",
    "b = np.array([5, -2, 9])"
   ]
  },
  {
   "cell_type": "code",
   "execution_count": 8,
   "id": "2d1fe801-011c-4516-844a-925a0191bf55",
   "metadata": {},
   "outputs": [
    {
     "data": {
      "text/plain": [
       "3"
      ]
     },
     "execution_count": 8,
     "metadata": {},
     "output_type": "execute_result"
    }
   ],
   "source": [
    "A.shape[0]"
   ]
  },
  {
   "cell_type": "code",
   "execution_count": 10,
   "id": "3db4395f-b1a8-4590-ac95-aecadaf0eb6e",
   "metadata": {},
   "outputs": [
    {
     "data": {
      "text/plain": [
       "array([[0, 0, 0],\n",
       "       [0, 0, 0],\n",
       "       [0, 0, 0]])"
      ]
     },
     "execution_count": 10,
     "metadata": {},
     "output_type": "execute_result"
    }
   ],
   "source": [
    "np.zeros_like(A)"
   ]
  },
  {
   "cell_type": "code",
   "execution_count": null,
   "id": "7cbb60b9-e47b-41e8-8cec-6b57e7b57860",
   "metadata": {},
   "outputs": [],
   "source": []
  },
  {
   "cell_type": "code",
   "execution_count": 12,
   "id": "b4b5faa7-aa7c-4fc7-9987-520868acd7fc",
   "metadata": {},
   "outputs": [],
   "source": [
    "def lu_decomp(A):\n",
    "    n = A.shape[0]\n",
    "    L = np.zeros_like(A)\n",
    "    U = np.zeros_like(A)\n",
    "\n",
    "    for i in range(n):\n",
    "        for k in range(i, n):\n",
    "            U[i, k] = A[i, k] - sum(L[i, j] * U[j, k] for j in range(i))\n",
    "\n",
    "        for k in range(i, n):\n",
    "            if i == k:\n",
    "                L[i, i] = 1\n",
    "            else:\n",
    "                L[k, i] = (A[k, i] - sum(L[k, j] * U[j, i] for j in range(i))) / U[i, i]\n",
    "    return L, U"
   ]
  },
  {
   "cell_type": "code",
   "execution_count": 14,
   "id": "4f7023bd-6226-4b40-989b-1baffba4d19b",
   "metadata": {},
   "outputs": [
    {
     "data": {
      "text/plain": [
       "(array([[ 1,  0,  0],\n",
       "        [ 2,  1,  0],\n",
       "        [-1, -1,  1]]),\n",
       " array([[ 2,  1,  1],\n",
       "        [ 0, -8, -2],\n",
       "        [ 0,  0,  1]]))"
      ]
     },
     "execution_count": 14,
     "metadata": {},
     "output_type": "execute_result"
    }
   ],
   "source": [
    "L, U = lu_decomp(A)\n",
    "\n",
    "L, U"
   ]
  },
  {
   "cell_type": "code",
   "execution_count": 16,
   "id": "af28efd1-0fb7-46f5-ad2c-937cb5892de0",
   "metadata": {},
   "outputs": [
    {
     "data": {
      "text/plain": [
       "array([1., 1., 2.])"
      ]
     },
     "execution_count": 16,
     "metadata": {},
     "output_type": "execute_result"
    }
   ],
   "source": [
    "y = np.linalg.solve(L, b) \n",
    "\n",
    "x = np.linalg.solve(U, y)\n",
    "\n",
    "x"
   ]
  },
  {
   "cell_type": "code",
   "execution_count": 18,
   "id": "ea9f89b9-d2ff-4527-8067-e99b136890f8",
   "metadata": {},
   "outputs": [
    {
     "data": {
      "text/plain": [
       "(array([[ 4. , -6. ,  0. ],\n",
       "        [ 0.5,  4. ,  1. ],\n",
       "        [-0.5,  1. ,  1. ]]),\n",
       " array([1, 1, 2], dtype=int32))"
      ]
     },
     "execution_count": 18,
     "metadata": {},
     "output_type": "execute_result"
    }
   ],
   "source": [
    "lu, p = lu_factor(A)\n",
    "\n",
    "lu, p"
   ]
  },
  {
   "cell_type": "code",
   "execution_count": 20,
   "id": "28d4db81-a816-4da8-b4cb-b3c183114818",
   "metadata": {},
   "outputs": [
    {
     "data": {
      "text/plain": [
       "array([1., 1., 2.])"
      ]
     },
     "execution_count": 20,
     "metadata": {},
     "output_type": "execute_result"
    }
   ],
   "source": [
    "x = lu_solve((lu, p), b)\n",
    "x"
   ]
  },
  {
   "cell_type": "code",
   "execution_count": null,
   "id": "93243642-c1e3-4be6-b9a7-b216d5fcdd41",
   "metadata": {},
   "outputs": [],
   "source": []
  },
  {
   "cell_type": "markdown",
   "id": "3c942dd5-4589-48b5-8c19-d16cde8e29cd",
   "metadata": {},
   "source": [
    "# QR Decomposition"
   ]
  },
  {
   "cell_type": "code",
   "execution_count": 22,
   "id": "42d2ba77-a0be-43dc-a446-02a60c825e8e",
   "metadata": {},
   "outputs": [
    {
     "data": {
      "text/plain": [
       "array([[ 1,  1],\n",
       "       [ 1, -1],\n",
       "       [ 1,  1]])"
      ]
     },
     "execution_count": 22,
     "metadata": {},
     "output_type": "execute_result"
    }
   ],
   "source": [
    "A = np.array([[1, 1], [1, -1], [1, 1]])\n",
    "A"
   ]
  },
  {
   "cell_type": "code",
   "execution_count": 25,
   "id": "67dc31e2-1af1-4faa-83c4-0c6d0d7b9217",
   "metadata": {},
   "outputs": [],
   "source": [
    "def qr_decomp(A):\n",
    "    #1\n",
    "    a1 = A[:, 0]\n",
    "    Q1 = a1 / np.linalg.norm(a1)\n",
    "\n",
    "    #2\n",
    "    a2 = A[:, 1]\n",
    "    proj = (np.dot(a2, Q1) / np.dot(Q1, Q1)) * Q1\n",
    "    v2 = a2 - proj\n",
    "    Q2 = v2 / np.linalg.norm(v2)\n",
    "\n",
    "    #Q\n",
    "    Q = np.column_stack((Q1, Q2))\n",
    "    # print(Q)\n",
    "\n",
    "    #R\n",
    "    R = np.dot(Q.T, A)\n",
    "\n",
    "    return Q, R"
   ]
  },
  {
   "cell_type": "code",
   "execution_count": 27,
   "id": "801607b3-efc3-4d3c-950d-58d7051580db",
   "metadata": {},
   "outputs": [
    {
     "name": "stdout",
     "output_type": "stream",
     "text": [
      "[[ 0.57735027  0.40824829]\n",
      " [ 0.57735027 -0.81649658]\n",
      " [ 0.57735027  0.40824829]]\n"
     ]
    },
    {
     "data": {
      "text/plain": [
       "(array([[ 0.57735027,  0.40824829],\n",
       "        [ 0.57735027, -0.81649658],\n",
       "        [ 0.57735027,  0.40824829]]),\n",
       " array([[ 1.73205081e+00,  5.77350269e-01],\n",
       "        [-1.11022302e-16,  1.63299316e+00]]))"
      ]
     },
     "execution_count": 27,
     "metadata": {},
     "output_type": "execute_result"
    }
   ],
   "source": [
    "qr_decomp(A)"
   ]
  },
  {
   "cell_type": "code",
   "execution_count": null,
   "id": "f4cd17ea-8fee-4914-8136-d08823012111",
   "metadata": {},
   "outputs": [],
   "source": []
  },
  {
   "cell_type": "markdown",
   "id": "18e1660a-0edc-4097-a93e-22ae24453845",
   "metadata": {},
   "source": [
    "# Eigenvalue and Eigenvector Decomposition"
   ]
  },
  {
   "cell_type": "code",
   "execution_count": 29,
   "id": "26e5003b-93c5-403d-aeff-cd65655b94fb",
   "metadata": {},
   "outputs": [],
   "source": [
    "A = np.array([[4, 1], [2, 3]])"
   ]
  },
  {
   "cell_type": "code",
   "execution_count": 31,
   "id": "6b952e15-642c-4e6a-93ae-8aacac6e783a",
   "metadata": {},
   "outputs": [
    {
     "data": {
      "text/plain": [
       "(array([5., 2.]),\n",
       " array([[ 0.70710678, -0.4472136 ],\n",
       "        [ 0.70710678,  0.89442719]]))"
      ]
     },
     "execution_count": 31,
     "metadata": {},
     "output_type": "execute_result"
    }
   ],
   "source": [
    "eigenvalue, eigenvector = np.linalg.eig(A)\n",
    "\n",
    "eigenvalue, eigenvector"
   ]
  },
  {
   "cell_type": "code",
   "execution_count": null,
   "id": "51885938-ec80-4dbd-9c47-f75ef0fb3ccc",
   "metadata": {},
   "outputs": [],
   "source": []
  },
  {
   "cell_type": "code",
   "execution_count": null,
   "id": "55b4b772-9309-4314-bcce-db70b7215cd0",
   "metadata": {},
   "outputs": [],
   "source": []
  }
 ],
 "metadata": {
  "kernelspec": {
   "display_name": "Python 3 (ipykernel)",
   "language": "python",
   "name": "python3"
  },
  "language_info": {
   "codemirror_mode": {
    "name": "ipython",
    "version": 3
   },
   "file_extension": ".py",
   "mimetype": "text/x-python",
   "name": "python",
   "nbconvert_exporter": "python",
   "pygments_lexer": "ipython3",
   "version": "3.11.7"
  }
 },
 "nbformat": 4,
 "nbformat_minor": 5
}
