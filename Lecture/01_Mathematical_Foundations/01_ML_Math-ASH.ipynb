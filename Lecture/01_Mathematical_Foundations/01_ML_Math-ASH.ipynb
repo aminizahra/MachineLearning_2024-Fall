{
 "cells": [
  {
   "cell_type": "markdown",
   "id": "b9495aca-a1e7-467f-99f7-3edd91b9464c",
   "metadata": {},
   "source": [
    "# Libraries"
   ]
  },
  {
   "cell_type": "code",
   "execution_count": 1,
   "id": "5f7c8636-4cbd-48a7-8930-34154264abb3",
   "metadata": {},
   "outputs": [],
   "source": [
    "import numpy as np\n",
    "\n",
    "from scipy.sparse import csr_matrix"
   ]
  },
  {
   "cell_type": "markdown",
   "id": "bc5281bf-fe60-49d5-8bb3-779b251e9347",
   "metadata": {},
   "source": [
    "# Section01"
   ]
  },
  {
   "cell_type": "markdown",
   "id": "725b1f6e-8961-498d-a22d-d2c9b03e70e2",
   "metadata": {},
   "source": [
    "## 1.1 Definition of a Vector and Notation"
   ]
  },
  {
   "cell_type": "code",
   "execution_count": 3,
   "id": "9246d6ff-9410-4d76-880d-bfeb9efe0552",
   "metadata": {},
   "outputs": [
    {
     "data": {
      "text/plain": [
       "array([ 0.2, -0.7,  0.5,  1.2])"
      ]
     },
     "execution_count": 3,
     "metadata": {},
     "output_type": "execute_result"
    }
   ],
   "source": [
    "v = np.array([0.2, -0.7, 0.5, 1.2])\n",
    "\n",
    "v"
   ]
  },
  {
   "cell_type": "code",
   "execution_count": 5,
   "id": "0f3ccfb5-adb3-44ef-9ea1-14c2e79a308e",
   "metadata": {},
   "outputs": [
    {
     "data": {
      "text/plain": [
       "numpy.ndarray"
      ]
     },
     "execution_count": 5,
     "metadata": {},
     "output_type": "execute_result"
    }
   ],
   "source": [
    "type(v)"
   ]
  },
  {
   "cell_type": "markdown",
   "id": "1a60e7d3-e4c4-4325-aca1-7cb937114748",
   "metadata": {},
   "source": [
    "## 1.2 Unit Vectors"
   ]
  },
  {
   "cell_type": "code",
   "execution_count": 7,
   "id": "5205fbfd-c0ce-482f-a08a-16eb9b3ecc2b",
   "metadata": {},
   "outputs": [],
   "source": [
    "def unit_vector(v):\n",
    "    norm = np.linalg.norm(v)\n",
    "    return v / norm"
   ]
  },
  {
   "cell_type": "code",
   "execution_count": 9,
   "id": "48d594b4-a45a-490e-9eef-a756724eb91e",
   "metadata": {},
   "outputs": [
    {
     "data": {
      "text/plain": [
       "array([ 0.42426407, -0.56568542,  0.70710678])"
      ]
     },
     "execution_count": 9,
     "metadata": {},
     "output_type": "execute_result"
    }
   ],
   "source": [
    "v = np.array([3, -4, 5])\n",
    "\n",
    "u = unit_vector(v)\n",
    "\n",
    "u"
   ]
  },
  {
   "cell_type": "code",
   "execution_count": null,
   "id": "f08385fe-536e-42cf-ac48-65a9e8ea5692",
   "metadata": {},
   "outputs": [],
   "source": []
  },
  {
   "cell_type": "markdown",
   "id": "8da3cfe7-211e-4f3b-bfbe-9b0ebaca7758",
   "metadata": {},
   "source": [
    "## 1.3 Addition and Subtraction of Vectors"
   ]
  },
  {
   "cell_type": "code",
   "execution_count": 11,
   "id": "04b23850-8362-467b-aadb-95fc541d30f9",
   "metadata": {},
   "outputs": [],
   "source": [
    "a = np.array([2, 3, 1])\n",
    "b = np.array([5, -1, 4])"
   ]
  },
  {
   "cell_type": "code",
   "execution_count": 13,
   "id": "cf07b230-437a-4cb7-93a9-1c7ec6fd7f79",
   "metadata": {},
   "outputs": [
    {
     "name": "stdout",
     "output_type": "stream",
     "text": [
      "[2 3 1] [ 5 -1  4]\n"
     ]
    }
   ],
   "source": [
    "print(a, b)"
   ]
  },
  {
   "cell_type": "code",
   "execution_count": 15,
   "id": "31ba8530-9efc-4044-a657-cf1550200c9d",
   "metadata": {},
   "outputs": [],
   "source": [
    "add = a + b"
   ]
  },
  {
   "cell_type": "code",
   "execution_count": 17,
   "id": "a0b9e586-c6c2-4b68-b565-1cfaaac4409c",
   "metadata": {},
   "outputs": [
    {
     "data": {
      "text/plain": [
       "array([7, 2, 5])"
      ]
     },
     "execution_count": 17,
     "metadata": {},
     "output_type": "execute_result"
    }
   ],
   "source": [
    "add"
   ]
  },
  {
   "cell_type": "code",
   "execution_count": 19,
   "id": "a2f115dd-ec59-4935-a84c-d42dcd902caf",
   "metadata": {},
   "outputs": [
    {
     "data": {
      "text/plain": [
       "array([-3,  4, -3])"
      ]
     },
     "execution_count": 19,
     "metadata": {},
     "output_type": "execute_result"
    }
   ],
   "source": [
    "sub = a-b\n",
    "sub"
   ]
  },
  {
   "cell_type": "code",
   "execution_count": null,
   "id": "1e7b0c88-325d-4e71-b4ab-0234ac35a96d",
   "metadata": {},
   "outputs": [],
   "source": []
  },
  {
   "cell_type": "markdown",
   "id": "f1f11914-a1bf-47ce-a0fe-8e227c039d0e",
   "metadata": {},
   "source": [
    "## 1.4 Scalar Multiplication"
   ]
  },
  {
   "cell_type": "code",
   "execution_count": 21,
   "id": "9ceec706-eaca-4482-aa85-f5e34b042c1c",
   "metadata": {},
   "outputs": [
    {
     "data": {
      "text/plain": [
       "array([ 3.75, -7.5 , 10.  ])"
      ]
     },
     "execution_count": 21,
     "metadata": {},
     "output_type": "execute_result"
    }
   ],
   "source": [
    "v = np.array([1.5, -3, 4])\n",
    "scalar = 2.5\n",
    "\n",
    "r = scalar * v\n",
    "\n",
    "r"
   ]
  },
  {
   "cell_type": "code",
   "execution_count": null,
   "id": "4fc9c2b1-d52d-4ea4-b16d-aa9b57a45af0",
   "metadata": {},
   "outputs": [],
   "source": []
  },
  {
   "cell_type": "markdown",
   "id": "4bbe73f4-0338-4457-9900-3ddd0bee92d9",
   "metadata": {},
   "source": [
    "## 1.5 Norm of a Vector"
   ]
  },
  {
   "cell_type": "code",
   "execution_count": 23,
   "id": "42057c45-8396-4642-8d49-6cd1dc8cb004",
   "metadata": {},
   "outputs": [
    {
     "data": {
      "text/plain": [
       "array([ 1.5, -3. ,  4. ])"
      ]
     },
     "execution_count": 23,
     "metadata": {},
     "output_type": "execute_result"
    }
   ],
   "source": [
    "v"
   ]
  },
  {
   "cell_type": "code",
   "execution_count": 25,
   "id": "7d92232b-9849-4bae-8f4d-51fe3d114e0d",
   "metadata": {},
   "outputs": [
    {
     "data": {
      "text/plain": [
       "5.220153254455275"
      ]
     },
     "execution_count": 25,
     "metadata": {},
     "output_type": "execute_result"
    }
   ],
   "source": [
    "np.linalg.norm(v)"
   ]
  },
  {
   "cell_type": "code",
   "execution_count": 27,
   "id": "e4063712-73a0-4bfb-8216-d7ff4aeaa194",
   "metadata": {},
   "outputs": [
    {
     "data": {
      "text/plain": [
       "4.242640687119285"
      ]
     },
     "execution_count": 27,
     "metadata": {},
     "output_type": "execute_result"
    }
   ],
   "source": [
    "np.linalg.norm([1, -2, 2, -3])"
   ]
  },
  {
   "cell_type": "code",
   "execution_count": null,
   "id": "3e82f62e-fac9-43fd-b7bc-5329f2329a7c",
   "metadata": {},
   "outputs": [],
   "source": []
  },
  {
   "cell_type": "markdown",
   "id": "54d49a4f-110a-4392-8f02-86b72460b058",
   "metadata": {},
   "source": [
    "## 1.6 Dot Product"
   ]
  },
  {
   "cell_type": "code",
   "execution_count": 29,
   "id": "4bbeeb56-2bcb-4894-9623-1f59fe3e02b9",
   "metadata": {},
   "outputs": [
    {
     "data": {
      "text/plain": [
       "0"
      ]
     },
     "execution_count": 29,
     "metadata": {},
     "output_type": "execute_result"
    }
   ],
   "source": [
    "a = np.array([2, 3, -1])\n",
    "b = np.array([4, -1, 5])\n",
    "\n",
    "np.dot(a, b) #ort"
   ]
  },
  {
   "cell_type": "code",
   "execution_count": 31,
   "id": "7aad6689-dbbf-48a4-b16e-c56912176661",
   "metadata": {},
   "outputs": [],
   "source": [
    "A = np.array([[1, 2, 3],\n",
    "             [4, 5, 6],\n",
    "             [7, 8, 9]]) #3x3   #3x2   #3x2\n",
    "\n",
    "B = np.array([[1, 2],\n",
    "             [4, 5],\n",
    "             [7, 8]])"
   ]
  },
  {
   "cell_type": "code",
   "execution_count": 33,
   "id": "0f09065a-30d3-4c03-a04d-96cd6e7c88a7",
   "metadata": {},
   "outputs": [
    {
     "data": {
      "text/plain": [
       "array([[1, 2, 3],\n",
       "       [4, 5, 6],\n",
       "       [7, 8, 9]])"
      ]
     },
     "execution_count": 33,
     "metadata": {},
     "output_type": "execute_result"
    }
   ],
   "source": [
    "A"
   ]
  },
  {
   "cell_type": "code",
   "execution_count": 35,
   "id": "f209f184-2ef8-4557-8674-a9e14f5ae098",
   "metadata": {},
   "outputs": [
    {
     "data": {
      "text/plain": [
       "array([[1, 2],\n",
       "       [4, 5],\n",
       "       [7, 8]])"
      ]
     },
     "execution_count": 35,
     "metadata": {},
     "output_type": "execute_result"
    }
   ],
   "source": [
    "B"
   ]
  },
  {
   "cell_type": "code",
   "execution_count": 37,
   "id": "7dc0535a-3e79-40a5-82b8-e3b69b7eb818",
   "metadata": {},
   "outputs": [
    {
     "data": {
      "text/plain": [
       "array([[ 30,  36],\n",
       "       [ 66,  81],\n",
       "       [102, 126]])"
      ]
     },
     "execution_count": 37,
     "metadata": {},
     "output_type": "execute_result"
    }
   ],
   "source": [
    "np.dot(A, B)"
   ]
  },
  {
   "cell_type": "code",
   "execution_count": 39,
   "id": "6be21764-b603-438a-83e9-d7e9ce6287cf",
   "metadata": {},
   "outputs": [
    {
     "data": {
      "text/plain": [
       "30"
      ]
     },
     "execution_count": 39,
     "metadata": {},
     "output_type": "execute_result"
    }
   ],
   "source": [
    "1 + 8 + 21"
   ]
  },
  {
   "cell_type": "code",
   "execution_count": 41,
   "id": "46532873-30b6-4ef8-bf99-d50652f58566",
   "metadata": {},
   "outputs": [],
   "source": [
    "C = np.array([[1, 2],\n",
    "             [4, 5],\n",
    "             [7, 8]]) #3x2 #3x2 "
   ]
  },
  {
   "cell_type": "code",
   "execution_count": 43,
   "id": "40de55fd-f9c9-41b9-a2aa-490478f2ca86",
   "metadata": {},
   "outputs": [
    {
     "ename": "ValueError",
     "evalue": "shapes (3,2) and (3,2) not aligned: 2 (dim 1) != 3 (dim 0)",
     "output_type": "error",
     "traceback": [
      "\u001b[1;31m---------------------------------------------------------------------------\u001b[0m",
      "\u001b[1;31mValueError\u001b[0m                                Traceback (most recent call last)",
      "Cell \u001b[1;32mIn[43], line 1\u001b[0m\n\u001b[1;32m----> 1\u001b[0m np\u001b[38;5;241m.\u001b[39mdot(B, C)\n",
      "\u001b[1;31mValueError\u001b[0m: shapes (3,2) and (3,2) not aligned: 2 (dim 1) != 3 (dim 0)"
     ]
    }
   ],
   "source": [
    "np.dot(B, C)"
   ]
  },
  {
   "cell_type": "code",
   "execution_count": 47,
   "id": "6c3e9d65-f667-4e71-b4bc-48ff184b318f",
   "metadata": {},
   "outputs": [
    {
     "data": {
      "text/plain": [
       "array([[  5,  14,  23],\n",
       "       [ 14,  41,  68],\n",
       "       [ 23,  68, 113]])"
      ]
     },
     "execution_count": 47,
     "metadata": {},
     "output_type": "execute_result"
    }
   ],
   "source": [
    "np.dot(B, C.T)"
   ]
  },
  {
   "cell_type": "code",
   "execution_count": 49,
   "id": "82e0f6ab-b140-4c2c-be69-445f43c0bc78",
   "metadata": {},
   "outputs": [
    {
     "data": {
      "text/plain": [
       "array([[1, 4, 7],\n",
       "       [2, 5, 8]])"
      ]
     },
     "execution_count": 49,
     "metadata": {},
     "output_type": "execute_result"
    }
   ],
   "source": [
    "C.T"
   ]
  },
  {
   "cell_type": "markdown",
   "id": "d4b20d65-c48f-45cc-84f5-760c408ffa9d",
   "metadata": {},
   "source": [
    "## 1.7 Angle Between Two Vectors and Its Applications in Machine Learning"
   ]
  },
  {
   "cell_type": "code",
   "execution_count": 51,
   "id": "a39ab7e3-9756-4b96-9320-2b102d148a05",
   "metadata": {},
   "outputs": [],
   "source": [
    "def cosine_sim(a, b):\n",
    "    dot_prod = np.dot(a, b)\n",
    "    norm_a = np.linalg.norm(a)\n",
    "    norm_b = np.linalg.norm(b)\n",
    "    return dot_prod / (norm_a * norm_b)"
   ]
  },
  {
   "cell_type": "code",
   "execution_count": 53,
   "id": "4d0496f1-776c-4a49-874d-09c390b54dda",
   "metadata": {},
   "outputs": [],
   "source": [
    "a = np.array([3, -5])\n",
    "b = np.array([7, 1])"
   ]
  },
  {
   "cell_type": "code",
   "execution_count": 55,
   "id": "f0ea6dc4-bf74-4ecd-9d45-de7265ac4a9d",
   "metadata": {},
   "outputs": [],
   "source": [
    "cos_theta = cosine_sim(a, b)"
   ]
  },
  {
   "cell_type": "code",
   "execution_count": 57,
   "id": "f9b47336-81ba-4c00-80e3-83be7d452724",
   "metadata": {},
   "outputs": [
    {
     "data": {
      "text/plain": [
       "0.38805700005813276"
      ]
     },
     "execution_count": 57,
     "metadata": {},
     "output_type": "execute_result"
    }
   ],
   "source": [
    "cos_theta"
   ]
  },
  {
   "cell_type": "code",
   "execution_count": 61,
   "id": "06e99c46-d109-446c-978d-0fb0c0e0d63e",
   "metadata": {},
   "outputs": [],
   "source": [
    "theta = np.degrees(np.arccos(cos_theta))"
   ]
  },
  {
   "cell_type": "code",
   "execution_count": 63,
   "id": "751caecd-3f34-4a97-85e4-146007686a76",
   "metadata": {},
   "outputs": [
    {
     "data": {
      "text/plain": [
       "67.16634582208245"
      ]
     },
     "execution_count": 63,
     "metadata": {},
     "output_type": "execute_result"
    }
   ],
   "source": [
    "theta"
   ]
  },
  {
   "cell_type": "markdown",
   "id": "3c4c27c0-af7c-41bb-8e6e-0d1d29b3aa8e",
   "metadata": {},
   "source": [
    "# Section02"
   ]
  },
  {
   "cell_type": "markdown",
   "id": "581ee7cb-408b-443c-8ef6-d035bd162c71",
   "metadata": {},
   "source": [
    "## 2.1 Identity Matrix"
   ]
  },
  {
   "cell_type": "code",
   "execution_count": 65,
   "id": "9613a357-f741-469a-a740-eba87941f6fb",
   "metadata": {},
   "outputs": [],
   "source": [
    "I = np.eye(3)"
   ]
  },
  {
   "cell_type": "code",
   "execution_count": 67,
   "id": "c0a0c2ba-1fed-46ab-9ee6-e4b5481d7043",
   "metadata": {},
   "outputs": [
    {
     "data": {
      "text/plain": [
       "array([[1., 0., 0.],\n",
       "       [0., 1., 0.],\n",
       "       [0., 0., 1.]])"
      ]
     },
     "execution_count": 67,
     "metadata": {},
     "output_type": "execute_result"
    }
   ],
   "source": [
    "I"
   ]
  },
  {
   "cell_type": "code",
   "execution_count": 69,
   "id": "39e0ad30-de48-44bc-900e-ac7060422e19",
   "metadata": {},
   "outputs": [
    {
     "data": {
      "text/plain": [
       "array([[1, 2, 3],\n",
       "       [4, 5, 6],\n",
       "       [7, 8, 9]])"
      ]
     },
     "execution_count": 69,
     "metadata": {},
     "output_type": "execute_result"
    }
   ],
   "source": [
    "A = np.array([[1, 2, 3], [4, 5, 6], [7, 8, 9]])\n",
    "\n",
    "A"
   ]
  },
  {
   "cell_type": "code",
   "execution_count": 71,
   "id": "8385dbba-bece-41d5-b9c7-28602e54ccc1",
   "metadata": {},
   "outputs": [
    {
     "data": {
      "text/plain": [
       "array([[1., 2., 3.],\n",
       "       [4., 5., 6.],\n",
       "       [7., 8., 9.]])"
      ]
     },
     "execution_count": 71,
     "metadata": {},
     "output_type": "execute_result"
    }
   ],
   "source": [
    "r = np.dot(A, I)\n",
    "r"
   ]
  },
  {
   "cell_type": "code",
   "execution_count": 73,
   "id": "a9cd0adc-80ad-43b3-b362-be106374cc2b",
   "metadata": {},
   "outputs": [],
   "source": [
    "# A . I = A"
   ]
  },
  {
   "cell_type": "markdown",
   "id": "397f9bbd-8675-4c47-b1ec-6742ef62ca46",
   "metadata": {},
   "source": [
    "## 2.2 Non-Zero Matrix"
   ]
  },
  {
   "cell_type": "code",
   "execution_count": 75,
   "id": "e193cc4a-29a5-4eac-a605-c263f17bad4a",
   "metadata": {},
   "outputs": [
    {
     "data": {
      "text/plain": [
       "array([[1, 2, 3],\n",
       "       [4, 5, 6],\n",
       "       [7, 8, 9]])"
      ]
     },
     "execution_count": 75,
     "metadata": {},
     "output_type": "execute_result"
    }
   ],
   "source": [
    "A"
   ]
  },
  {
   "cell_type": "markdown",
   "id": "5950993d-d665-4674-b94b-6652467ac298",
   "metadata": {},
   "source": [
    "## 2.3 Sparse Matrix"
   ]
  },
  {
   "cell_type": "code",
   "execution_count": 77,
   "id": "65f35602-9d81-4233-b3af-cac759071b6d",
   "metadata": {},
   "outputs": [
    {
     "data": {
      "text/plain": [
       "<Compressed Sparse Row sparse matrix of dtype 'int32'\n",
       "\twith 1 stored elements and shape (3, 3)>"
      ]
     },
     "execution_count": 77,
     "metadata": {},
     "output_type": "execute_result"
    }
   ],
   "source": [
    "S = csr_matrix([[3, 0, 0], [0, 0, 0], [0, 0, 0]])\n",
    "S"
   ]
  },
  {
   "cell_type": "code",
   "execution_count": 81,
   "id": "494f0690-9a6a-4bfd-b36e-ea767a02f37b",
   "metadata": {},
   "outputs": [
    {
     "data": {
      "text/plain": [
       "array([[3, 0, 0],\n",
       "       [0, 0, 0],\n",
       "       [0, 0, 0]])"
      ]
     },
     "execution_count": 81,
     "metadata": {},
     "output_type": "execute_result"
    }
   ],
   "source": [
    "S.toarray()"
   ]
  },
  {
   "cell_type": "code",
   "execution_count": null,
   "id": "0b013f82-dd9f-4d0d-aca2-b8ce6c16e927",
   "metadata": {},
   "outputs": [],
   "source": []
  },
  {
   "cell_type": "code",
   "execution_count": null,
   "id": "ef962d8a-c01b-49ad-89c0-fa59c7d2d0f1",
   "metadata": {},
   "outputs": [],
   "source": []
  },
  {
   "cell_type": "markdown",
   "id": "4b59f42d-7d8f-4829-84bd-5d9c06b49301",
   "metadata": {},
   "source": [
    "## 2.4,5,6 Singular & Non-singular Matrix & Inverse "
   ]
  },
  {
   "cell_type": "code",
   "execution_count": 83,
   "id": "48a1ebd2-ab21-4c6e-9aea-8235c6a5fc4c",
   "metadata": {},
   "outputs": [],
   "source": [
    "matrix_1 = np.array([[2, 4],\n",
    "                     [1, 2]])\n",
    "\n",
    "matrix_2 = np.array([[1, 2],\n",
    "                     [3, 4]])"
   ]
  },
  {
   "cell_type": "code",
   "execution_count": 85,
   "id": "95cdb1ce-cefa-464f-af7f-cdabc695eeab",
   "metadata": {},
   "outputs": [],
   "source": [
    "det1 = np.linalg.det(matrix_1)"
   ]
  },
  {
   "cell_type": "code",
   "execution_count": 87,
   "id": "45c28661-8fb6-48c3-84bc-b99217939e82",
   "metadata": {},
   "outputs": [
    {
     "data": {
      "text/plain": [
       "0.0"
      ]
     },
     "execution_count": 87,
     "metadata": {},
     "output_type": "execute_result"
    }
   ],
   "source": [
    "det1"
   ]
  },
  {
   "cell_type": "code",
   "execution_count": 89,
   "id": "06284786-5200-4bee-a242-18d117e04eae",
   "metadata": {},
   "outputs": [
    {
     "data": {
      "text/plain": [
       "-2.0000000000000004"
      ]
     },
     "execution_count": 89,
     "metadata": {},
     "output_type": "execute_result"
    }
   ],
   "source": [
    "det2 = np.linalg.det(matrix_2)\n",
    "det2"
   ]
  },
  {
   "cell_type": "code",
   "execution_count": 91,
   "id": "ae496af2-9d78-48c5-a8a1-79d7fd1ab83b",
   "metadata": {},
   "outputs": [
    {
     "name": "stdout",
     "output_type": "stream",
     "text": [
      "M1 is Sing\n"
     ]
    }
   ],
   "source": [
    "print(f\"M1 is {'Sing' if det1 == 0 else 'non-sing'}\")"
   ]
  },
  {
   "cell_type": "code",
   "execution_count": 93,
   "id": "0fd9d24d-91c7-41df-9308-ec506de49ae4",
   "metadata": {},
   "outputs": [
    {
     "name": "stdout",
     "output_type": "stream",
     "text": [
      "M2 is non-sing\n"
     ]
    }
   ],
   "source": [
    "print(f\"M2 is {'Sing' if det2 == 0 else 'non-sing'}\")"
   ]
  },
  {
   "cell_type": "code",
   "execution_count": 95,
   "id": "ab448222-dbee-41ec-b5c6-04ea0845e6cd",
   "metadata": {},
   "outputs": [
    {
     "ename": "LinAlgError",
     "evalue": "Singular matrix",
     "output_type": "error",
     "traceback": [
      "\u001b[1;31m---------------------------------------------------------------------------\u001b[0m",
      "\u001b[1;31mLinAlgError\u001b[0m                               Traceback (most recent call last)",
      "Cell \u001b[1;32mIn[95], line 1\u001b[0m\n\u001b[1;32m----> 1\u001b[0m np\u001b[38;5;241m.\u001b[39mlinalg\u001b[38;5;241m.\u001b[39minv(matrix_1)\n",
      "File \u001b[1;32m~\\anaconda3\\Lib\\site-packages\\numpy\\linalg\\linalg.py:561\u001b[0m, in \u001b[0;36minv\u001b[1;34m(a)\u001b[0m\n\u001b[0;32m    559\u001b[0m signature \u001b[38;5;241m=\u001b[39m \u001b[38;5;124m'\u001b[39m\u001b[38;5;124mD->D\u001b[39m\u001b[38;5;124m'\u001b[39m \u001b[38;5;28;01mif\u001b[39;00m isComplexType(t) \u001b[38;5;28;01melse\u001b[39;00m \u001b[38;5;124m'\u001b[39m\u001b[38;5;124md->d\u001b[39m\u001b[38;5;124m'\u001b[39m\n\u001b[0;32m    560\u001b[0m extobj \u001b[38;5;241m=\u001b[39m get_linalg_error_extobj(_raise_linalgerror_singular)\n\u001b[1;32m--> 561\u001b[0m ainv \u001b[38;5;241m=\u001b[39m _umath_linalg\u001b[38;5;241m.\u001b[39minv(a, signature\u001b[38;5;241m=\u001b[39msignature, extobj\u001b[38;5;241m=\u001b[39mextobj)\n\u001b[0;32m    562\u001b[0m \u001b[38;5;28;01mreturn\u001b[39;00m wrap(ainv\u001b[38;5;241m.\u001b[39mastype(result_t, copy\u001b[38;5;241m=\u001b[39m\u001b[38;5;28;01mFalse\u001b[39;00m))\n",
      "File \u001b[1;32m~\\anaconda3\\Lib\\site-packages\\numpy\\linalg\\linalg.py:112\u001b[0m, in \u001b[0;36m_raise_linalgerror_singular\u001b[1;34m(err, flag)\u001b[0m\n\u001b[0;32m    111\u001b[0m \u001b[38;5;28;01mdef\u001b[39;00m \u001b[38;5;21m_raise_linalgerror_singular\u001b[39m(err, flag):\n\u001b[1;32m--> 112\u001b[0m     \u001b[38;5;28;01mraise\u001b[39;00m LinAlgError(\u001b[38;5;124m\"\u001b[39m\u001b[38;5;124mSingular matrix\u001b[39m\u001b[38;5;124m\"\u001b[39m)\n",
      "\u001b[1;31mLinAlgError\u001b[0m: Singular matrix"
     ]
    }
   ],
   "source": [
    "np.linalg.inv(matrix_1)"
   ]
  },
  {
   "cell_type": "code",
   "execution_count": 97,
   "id": "fd486ca6-6b74-404f-8966-7ffa2f8aeeb3",
   "metadata": {},
   "outputs": [
    {
     "data": {
      "text/plain": [
       "array([[-2. ,  1. ],\n",
       "       [ 1.5, -0.5]])"
      ]
     },
     "execution_count": 97,
     "metadata": {},
     "output_type": "execute_result"
    }
   ],
   "source": [
    "np.linalg.inv(matrix_2)"
   ]
  },
  {
   "cell_type": "markdown",
   "id": "ddea383b-387c-45da-a434-133da829d941",
   "metadata": {},
   "source": [
    "## 2.7 Diagonal Matrix"
   ]
  },
  {
   "cell_type": "code",
   "execution_count": 99,
   "id": "c5220084-3104-43d9-9271-929816926aac",
   "metadata": {},
   "outputs": [
    {
     "data": {
      "text/plain": [
       "array([[3, 0, 0],\n",
       "       [0, 5, 0],\n",
       "       [0, 0, 7]])"
      ]
     },
     "execution_count": 99,
     "metadata": {},
     "output_type": "execute_result"
    }
   ],
   "source": [
    "D = np.diag([3, 5, 7])\n",
    "D"
   ]
  },
  {
   "cell_type": "code",
   "execution_count": null,
   "id": "1042750b-6a6d-47b6-8f70-a88e82b5d57c",
   "metadata": {},
   "outputs": [],
   "source": []
  },
  {
   "cell_type": "code",
   "execution_count": 101,
   "id": "880837ac-9f99-44db-ad16-ab63d521d027",
   "metadata": {},
   "outputs": [],
   "source": [
    "matrix_1 = np.array([[3, 0, 0],\n",
    "                     [0, 5, 0],\n",
    "                     [0, 0, 7]])\n",
    "\n",
    "matrix_2 = np.array([[1, 2, 0],\n",
    "                     [0, 5, 0],\n",
    "                     [0, 0, 9]])"
   ]
  },
  {
   "cell_type": "code",
   "execution_count": 107,
   "id": "601abe0a-0abb-44d3-9f34-1e5b1bce3cc5",
   "metadata": {},
   "outputs": [],
   "source": [
    "def is_diag(M):\n",
    "    return np.all(M == np.diag(np.diagonal(M)))"
   ]
  },
  {
   "cell_type": "code",
   "execution_count": 109,
   "id": "f2540892-6138-4457-bb01-4ad7577e1b27",
   "metadata": {},
   "outputs": [
    {
     "data": {
      "text/plain": [
       "True"
      ]
     },
     "execution_count": 109,
     "metadata": {},
     "output_type": "execute_result"
    }
   ],
   "source": [
    "is_diag(matrix_1)"
   ]
  },
  {
   "cell_type": "code",
   "execution_count": 111,
   "id": "02d2f922-d0d7-46b3-b33c-99281b066934",
   "metadata": {},
   "outputs": [
    {
     "data": {
      "text/plain": [
       "False"
      ]
     },
     "execution_count": 111,
     "metadata": {},
     "output_type": "execute_result"
    }
   ],
   "source": [
    "is_diag(matrix_2)"
   ]
  },
  {
   "cell_type": "markdown",
   "id": "6f9338bb-e41e-4f2d-926d-ed11bc367429",
   "metadata": {},
   "source": [
    "## 2.2 Symmetric Matrix"
   ]
  },
  {
   "cell_type": "code",
   "execution_count": 117,
   "id": "d7a7e188-c4e9-4d1f-be0f-a0262dd1117f",
   "metadata": {},
   "outputs": [],
   "source": [
    "matrix = np.array([[1, 2, 3],\n",
    "                   [2, 5, 6],\n",
    "                   [3, 6, 9]])"
   ]
  },
  {
   "cell_type": "code",
   "execution_count": 119,
   "id": "1228fa45-83d1-4794-b832-80d6117d8319",
   "metadata": {},
   "outputs": [
    {
     "data": {
      "text/plain": [
       "True"
      ]
     },
     "execution_count": 119,
     "metadata": {},
     "output_type": "execute_result"
    }
   ],
   "source": [
    "np.array_equal(matrix, matrix.T)"
   ]
  },
  {
   "cell_type": "code",
   "execution_count": 121,
   "id": "931adf1c-c3f6-4674-bbe4-c51df0c0ba6a",
   "metadata": {},
   "outputs": [],
   "source": [
    "m = np.array([[1, 2, 3],\n",
    "                   [2, 5, -1],\n",
    "                   [3, 6, 9]])"
   ]
  },
  {
   "cell_type": "code",
   "execution_count": 123,
   "id": "6f044763-f7a1-4a84-8d37-b5bf0617c8e1",
   "metadata": {},
   "outputs": [
    {
     "data": {
      "text/plain": [
       "False"
      ]
     },
     "execution_count": 123,
     "metadata": {},
     "output_type": "execute_result"
    }
   ],
   "source": [
    "np.array_equal(m, m.T)"
   ]
  },
  {
   "cell_type": "markdown",
   "id": "3af50c23-0b38-48d6-bb33-9fead5ffea7e",
   "metadata": {},
   "source": [
    "# Section03"
   ]
  },
  {
   "cell_type": "markdown",
   "id": "c9b3daed-c800-49b5-b110-ba51f1b8f112",
   "metadata": {},
   "source": [
    "## 3.1 Calculate Matrix Rank"
   ]
  },
  {
   "cell_type": "code",
   "execution_count": 113,
   "id": "9823d6fa-9bc5-4312-92f1-f2d1ca01b850",
   "metadata": {},
   "outputs": [],
   "source": [
    "A = np.array([[1, 2, 3],\n",
    "              [4, 5, 6],\n",
    "              [7, 8, 9]])"
   ]
  },
  {
   "cell_type": "code",
   "execution_count": 115,
   "id": "93ad473d-7d43-49ab-bd8a-739ad353baa8",
   "metadata": {},
   "outputs": [
    {
     "data": {
      "text/plain": [
       "2"
      ]
     },
     "execution_count": 115,
     "metadata": {},
     "output_type": "execute_result"
    }
   ],
   "source": [
    "rank_A = np.linalg.matrix_rank(A)\n",
    "\n",
    "rank_A"
   ]
  },
  {
   "cell_type": "code",
   "execution_count": null,
   "id": "d63cad96-48a0-4e56-ad9b-ecfafe7424ab",
   "metadata": {},
   "outputs": [],
   "source": []
  }
 ],
 "metadata": {
  "kernelspec": {
   "display_name": "Python 3 (ipykernel)",
   "language": "python",
   "name": "python3"
  },
  "language_info": {
   "codemirror_mode": {
    "name": "ipython",
    "version": 3
   },
   "file_extension": ".py",
   "mimetype": "text/x-python",
   "name": "python",
   "nbconvert_exporter": "python",
   "pygments_lexer": "ipython3",
   "version": "3.11.7"
  }
 },
 "nbformat": 4,
 "nbformat_minor": 5
}
